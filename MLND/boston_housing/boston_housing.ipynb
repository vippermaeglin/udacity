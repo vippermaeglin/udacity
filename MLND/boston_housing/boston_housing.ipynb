{
 "cells": [
  {
   "cell_type": "markdown",
   "metadata": {},
   "source": [
    "# Machine Learning Engineer Nanodegree\n",
    "## by Vinicius Arruda\n",
    "## Model Evaluation & Validation\n",
    "## Project 1: Predicting Boston Housing Prices\n",
    "\n",
    "Welcome to the first project of the Machine Learning Engineer Nanodegree! In this notebook, some template code has already been provided for you, and you will need to implement additional functionality to successfully complete this project. You will not need to modify the included code beyond what is requested. Sections that begin with **'Implementation'** in the header indicate that the following block of code will require additional functionality which you must provide. Instructions will be provided for each section and the specifics of the implementation are marked in the code block with a 'TODO' statement. Please be sure to read the instructions carefully!\n",
    "\n",
    "In addition to implementing code, there will be questions that you must answer which relate to the project and your implementation. Each section where you will answer a question is preceded by a **'Question X'** header. Carefully read each question and provide thorough answers in the following text boxes that begin with **'Answer:'**. Your project submission will be evaluated based on your answers to each of the questions and the implementation you provide.  \n",
    "\n",
    ">**Note:** Code and Markdown cells can be executed using the **Shift + Enter** keyboard shortcut. In addition, Markdown cells can be edited by typically double-clicking the cell to enter edit mode."
   ]
  },
  {
   "cell_type": "markdown",
   "metadata": {},
   "source": [
    "## Getting Started\n",
    "In this project, you will evaluate the performance and predictive power of a model that has been trained and tested on data collected from homes in suburbs of Boston, Massachusetts. A model trained on this data that is seen as a *good fit* could then be used to make certain predictions about a home — in particular, its monetary value. This model would prove to be invaluable for someone like a real estate agent who could make use of such information on a daily basis.\n",
    "\n",
    "The dataset for this project originates from the [UCI Machine Learning Repository](https://archive.ics.uci.edu/ml/datasets/Housing). The Boston housing data was collected in 1978 and each of the 506 entries represent aggregated data about 14 features for homes from various suburbs in Boston, Massachusetts. For the purposes of this project, the following preprocessing steps have been made to the dataset:\n",
    "- 16 data points have an `'MEDV'` value of 50.0. These data points likely contain **missing or censored values** and have been removed.\n",
    "- 1 data point has an `'RM'` value of 8.78. This data point can be considered an **outlier** and has been removed.\n",
    "- The features `'RM'`, `'LSTAT'`, `'PTRATIO'`, and `'MEDV'` are essential. The remaining **non-relevant features** have been excluded.\n",
    "- The feature `'MEDV'` has been **multiplicatively scaled** to account for 35 years of market inflation.\n",
    "\n",
    "Run the code cell below to load the Boston housing dataset, along with a few of the necessary Python libraries required for this project. You will know the dataset loaded successfully if the size of the dataset is reported."
   ]
  },
  {
   "cell_type": "code",
   "execution_count": 7,
   "metadata": {
    "collapsed": false
   },
   "outputs": [
    {
     "name": "stdout",
     "output_type": "stream",
     "text": [
      "Boston housing dataset has 489 data points with 4 variables each.\n"
     ]
    }
   ],
   "source": [
    "# Import libraries necessary for this project\n",
    "import numpy as np\n",
    "import pandas as pd\n",

    "from sklearn.cross_validation import ShuffleSplit\n",
    "\n",
    "# Import supplementary visualizations code visuals.py\n",
    "import visuals as vs\n",
    "\n",
    "# Pretty display for notebooks\n",
    "%matplotlib inline\n",
    "\n",
    "# Load the Boston housing dataset\n",
    "data = pd.read_csv('housing.csv')\n",
    "prices = data['MEDV']\n",
    "features = data.drop('MEDV', axis = 1)\n",
    "    \n",
    "# Success\n",
    "print \"Boston housing dataset has {} data points with {} variables each.\".format(*data.shape)"
   ]
  },
  {
   "cell_type": "markdown",
   "metadata": {},
   "source": [
    "## Data Exploration\n",
    "In this first section of this project, you will make a cursory investigation about the Boston housing data and provide your observations. Familiarizing yourself with the data through an explorative process is a fundamental practice to help you better understand and justify your results.\n",
    "\n",
    "Since the main goal of this project is to construct a working model which has the capability of predicting the value of houses, we will need to separate the dataset into **features** and the **target variable**. The **features**, `'RM'`, `'LSTAT'`, and `'PTRATIO'`, give us quantitative information about each data point. The **target variable**, `'MEDV'`, will be the variable we seek to predict. These are stored in `features` and `prices`, respectively."
   ]
  },
  {
   "cell_type": "markdown",
   "metadata": {},
   "source": [
    "### Implementation: Calculate Statistics\n",
    "For your very first coding implementation, you will calculate descriptive statistics about the Boston housing prices. Since `numpy` has already been imported for you, use this library to perform the necessary calculations. These statistics will be extremely important later on to analyze various prediction results from the constructed model.\n",
    "\n",
    "In the code cell below, you will need to implement the following:\n",
    "- Calculate the minimum, maximum, mean, median, and standard deviation of `'MEDV'`, which is stored in `prices`.\n",
    "  - Store each calculation in their respective variable."
   ]
  },
  {
   "cell_type": "code",
   "execution_count": 10,
   "metadata": {
    "collapsed": false
   },
   "outputs": [
    {
     "name": "stdout",
     "output_type": "stream",
     "text": [
      "Boston housing analysis:\n",
      "\n",
      "Minimum price: $105,000.00\n",
      "Maximum price: $1,024,800.00\n",
      "Mean price: $454,342.94\n",
      "Median price $438,900.00\n",
      "Standard deviation of prices: $165,171.13\n"
     ]
    }
   ],
   "source": [
    "# TODO: Minimum price of the data\n",
    "minimum_price = np.min(prices)\n",
    "\n",
    "# TODO: Maximum price of the data\n",
    "maximum_price = np.max(prices)\n",
    "\n",
    "# TODO: Mean price of the data\n",
    "mean_price = np.mean(prices)\n",
    "\n",
    "# TODO: Median price of the data\n",
    "median_price = np.median(prices)\n",
    "\n",
    "# TODO: Standard deviation of prices of the data\n",
    "std_price = np.std(prices)\n",
    "\n",
    "# Show the calculated statistics\n",
    "print \"Statistics for Boston housing dataset:\\n\"\n",
    "print \"Minimum price: ${:,.2f}\".format(minimum_price)\n",
    "print \"Maximum price: ${:,.2f}\".format(maximum_price)\n",
    "print \"Mean price: ${:,.2f}\".format(mean_price)\n",
    "print \"Median price ${:,.2f}\".format(median_price)\n",
    "print \"Standard deviation of prices: ${:,.2f}\".format(std_price)"
   ]
  },
  {
   "cell_type": "markdown",
   "metadata": {},
   "source": [
    "### Question 1 - Feature Observation\n",
    "As a reminder, we are using three features from the Boston housing dataset: `'RM'`, `'LSTAT'`, and `'PTRATIO'`. For each data point (neighborhood):\n",
    "- `'RM'` is the average number of rooms among homes in the neighborhood.\n",
    "- `'LSTAT'` is the percentage of homeowners in the neighborhood considered \"lower class\" (working poor).\n",
    "- `'PTRATIO'` is the ratio of students to teachers in primary and secondary schools in the neighborhood.\n",
    "\n",
    "\n",
    "** Using your intuition, for each of the three features above, do you think that an increase in the value of that feature would lead to an **increase** in the value of `'MEDV'` or a **decrease** in the value of `'MEDV'`? Justify your answer for each.**\n",
    "\n",
    "**Hint:** This problem can phrased using examples like below.  \n",
    "* Would you expect a home that has an `'RM'` value(number of rooms) of 6 be worth more or less than a home that has an `'RM'` value of 7?\n",
    "* Would you expect a neighborhood that has an `'LSTAT'` value(percent of lower class workers) of 15 have home prices be worth more or less than a neighborhood that has an `'LSTAT'` value of 20?\n",

    "* Would you expect a neighborhood that has an `'PTRATIO'` value(ratio of students to teachers) of 10 have home prices be worth more or less than a neighborhood that has an `'PTRATIO'` value of 15?"
   ]
  },
  {
   "cell_type": "markdown",
   "metadata": {},
   "source": [
    "**Answer: **\n",
    "\n",
    "RM: With RM increasing it would result in a proportional **increase** of MEDV. \n",
    "\n",
    "LSTAT: With LSTAT increasing it would **decrease** the value of MEDV. \n",
    "\n",
    "PTRATIO: With PTRATIO increasing it would **decrease** the value of MEDV. \n",
   ]
  },
  {
   "cell_type": "markdown",
   "metadata": {},
   "source": [
    "----\n",
    "\n",
    "## Developing a Model\n",
    "In this second section of the project, you will develop the tools and techniques necessary for a model to make a prediction. Being able to make accurate evaluations of each model's performance through the use of these tools and techniques helps to greatly reinforce the confidence in your predictions."
   ]
  },
  {
   "cell_type": "markdown",
   "metadata": {},
   "source": [
    "### Implementation: Define a Performance Metric\n",
    "It is difficult to measure the quality of a given model without quantifying its performance over training and testing. This is typically done using some type of performance metric, whether it is through calculating some type of error, the goodness of fit, or some other useful measurement. For this project, you will be calculating the [*coefficient of determination*](http://stattrek.com/statistics/dictionary.aspx?definition=coefficient_of_determination), R<sup>2</sup>, to quantify your model's performance. The coefficient of determination for a model is a useful statistic in regression analysis, as it often describes how \"good\" that model is at making predictions. \n",
    "\n",
    "The values for R<sup>2</sup> range from 0 to 1, which captures the percentage of squared correlation between the predicted and actual values of the **target variable**. A model with an R<sup>2</sup> of 0 is no better than a model that always predicts the *mean* of the target variable, whereas a model with an R<sup>2</sup> of 1 perfectly predicts the target variable. Any value between 0 and 1 indicates what percentage of the target variable, using this model, can be explained by the **features**. _A model can be given a negative R<sup>2</sup> as well, which indicates that the model is **arbitrarily worse** than one that always predicts the mean of the target variable._\n",
    "\n",
    "For the `performance_metric` function in the code cell below, you will need to implement the following:\n",
    "- Use `r2_score` from `sklearn.metrics` to perform a performance calculation between `y_true` and `y_predict`.\n",
    "- Assign the performance score to the `score` variable."
   ]
  },
  {
   "cell_type": "code",
   "execution_count": 11,
   "metadata": {
    "collapsed": false
   },
   "outputs": [],
   "source": [
    "# TODO: Import 'r2_score'\n",

    "from sklearn.metrics import r2_score\n",
    "def performance_metric(y_true, y_predict):\n",
    "    \"\"\" Calculates and returns the performance score between \n",
    "        true and predicted values based on the metric chosen. \"\"\"\n",
    "    \n",
    "    # TODO: Calculate the performance score between 'y_true' and 'y_predict'\n",
    "    score = r2_score(y_true, y_predict)\n",
    "    \n",
    "    # Return the score\n",
    "    return score"
   ]
  },
  {
   "cell_type": "markdown",
   "metadata": {},
   "source": [
    "### Question 2 - Goodness of Fit\n",
    "Assume that a dataset contains five data points and a model made the following predictions for the target variable:\n",
    "\n",
    "| True Value | Prediction |\n",
    "| :-------------: | :--------: |\n",
    "| 3.0 | 2.5 |\n",
    "| -0.5 | 0.0 |\n",
    "| 2.0 | 2.1 |\n",
    "| 7.0 | 7.8 |\n",
    "| 4.2 | 5.3 |\n",
    "\n",
    "Run the code cell below to use the `performance_metric` function and calculate this model's coefficient of determination."
   ]
  },
  {
   "cell_type": "code",
   "execution_count": 12,
   "metadata": {
    "collapsed": false
   },
   "outputs": [
    {
     "name": "stdout",
     "output_type": "stream",
     "text": [
      "The coefficient of determination, R^2, is 0.923.\n"
     ]
    }
   ],
   "source": [
    "# Calculate the performance of this model\n",
    "score = performance_metric([3, -0.5, 2, 7, 4.2], [2.5, 0.0, 2.1, 7.8, 5.3])\n",
    "print \"Model has a coefficient of determination, R^2, of {:.3f}.\".format(score)"
   ]
  },
  {
   "cell_type": "markdown",
   "metadata": {},
   "source": [
    "* Would you consider this model to have successfully captured the variation of the target variable? \n",
    "* Why or why not?\n",

    "\n",
    "** Hint: **  The R2 score is the proportion of the variance in the dependent variable that is predictable from the independent variable. In other words:\n",
    "* R2 score of 0 means that the dependent variable cannot be predicted from the independent variable.\n",
    "* R2 score of 1 means the dependent variable can be predicted from the independent variable.\n",
    "* R2 score between 0 and 1 indicates the extent to which the dependent variable is predictable. An \n",
    "* R2 score of 0.40 means that 40 percent of the variance in Y is predictable from X."


    "**Answer:** \n",
    "\n",












    "Coefficient R^2 determines the squared correlation between the actual and the predicted values. When it results on 0 it indicates that the model always fails to predict the value, where a value of 1 indicates the model prefectly predicts the target value.\n",
    "\n",
    "Considering the model's R^2 score of 0.923 we could say that the model satisfactory captured the variation.\n"
   ]
  },
  {
   "cell_type": "markdown",
   "metadata": {},
   "source": [
    "### Implementation: Shuffle and Split Data\n",
    "Your next implementation requires that you take the Boston housing dataset and split the data into training and testing subsets. Typically, the data is also shuffled into a random order when creating the training and testing subsets to remove any bias in the ordering of the dataset.\n",
    "\n",
    "For the code cell below, you will need to implement the following:\n",
    "- Use `train_test_split` from `sklearn.cross_validation` to shuffle and split the `features` and `prices` data into training and testing sets.\n",
    "  - Split the data into 80% training and 20% testing.\n",
    "  - Set the `random_state` for `train_test_split` to a value of your choice. This ensures results are consistent.\n",
    "- Assign the train and testing splits to `X_train`, `X_test`, `y_train`, and `y_test`."
   ]
  },
  {
   "cell_type": "code",
   "execution_count": 13,
   "metadata": {
    "collapsed": false
   },
   "outputs": [
    {
     "name": "stdout",
     "output_type": "stream",
     "text": [
      "SUCCESS: Training and testing split. \n"
     ]
    }
   ],
   "source": [
    "# TODO: Import 'train_test_split'\n",
    "from sklearn.cross_validation import train_test_split\n",
    "\n",
    "# TODO: Shuffle and split the data into training and testing subsets\n",
    "X_train, X_test, y_train, y_test = train_test_split(features, prices, test_size=0.20, random_state=33)\n",
    "\n",
    "# Success\n",
    "print \"Training and testing split was successful.\""
   ]
  },
  {
   "cell_type": "markdown",
   "metadata": {},
   "source": [
    "### Question 3 - Training and Testing\n",
    "\n",
    "* What is the benefit to splitting a dataset into some ratio of training and testing subsets for a learning algorithm?\n",
    "\n",
    "**Hint:** Think about how overfitting or underfitting is contingent upon how splits on data is done."

   ]
  },
  {
   "cell_type": "markdown",
   "metadata": {},
   "source": [
    "**Answer: **\n",
    "\n",
    "Splitting your dataset into training and testing is very usefull for validation and accuracy. If we use the entire dataset for training overfitting will occur and the model would not have learned anything. \n",
    "\n",
    "Splitting into a suitable ratio of training optimizes the scenario of using just enough data to train the algorithm for a good fit."
   ]
  },
  {
   "cell_type": "markdown",
   "metadata": {},
   "source": [
    "----\n",
    "\n",
    "## Analyzing Model Performance\n",
    "In this third section of the project, you'll take a look at several models' learning and testing performances on various subsets of training data. Additionally, you'll investigate one particular algorithm with an increasing `'max_depth'` parameter on the full training set to observe how model complexity affects performance. Graphing your model's performance based on varying criteria can be beneficial in the analysis process, such as visualizing behavior that may not have been apparent from the results alone."
   ]
  },
  {
   "cell_type": "markdown",
   "metadata": {},
   "source": [
    "### Learning Curves\n",
    "The following code cell produces four graphs for a decision tree model with different maximum depths. Each graph visualizes the learning curves of the model for both training and testing as the size of the training set is increased. Note that the shaded region of a learning curve denotes the uncertainty of that curve (measured as the standard deviation). The model is scored on both the training and testing sets using R<sup>2</sup>, the coefficient of determination.  \n",
    "\n",
    "Run the code cell below and use these graphs to answer the following question."
   ]
  },
  {
   "cell_type": "code",
   "execution_count": 14,
   "metadata": {
    "collapsed": false,
    "scrolled": false
   },
   "outputs": [
    {
     "data": {
      "image/png": "iVBORw0KGgoAAAANSUhEUgAAA1sAAAIMCAYAAAADwLb+AAAABHNCSVQICAgIfAhkiAAAAAlwSFlz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\nWRd4sGVmZmZmZtYFHmyZmZmZmZl1wf8DN/mapnwrnQIAAAAASUVORK5CYII=\n",
      "text/plain": [
       "<matplotlib.figure.Figure at 0x104119cd0>"
      ]
     },
     "metadata": {},
     "output_type": "display_data"
    }
   ],
   "source": [
    "# Produce learning curves for varying training set sizes and maximum depths\n",
    "vs.ModelLearning(features, prices)"
   ]
  },
  {
   "cell_type": "markdown",
   "metadata": {},
   "source": [
    "### Question 4 - Learning the Data\n",
    "* Choose one of the graphs above and state the maximum depth for the model. \n",
    "* What happens to the score of the training curve as more training points are added? What about the testing curve? \n",
    "* Would having more training points benefit the model? \n",
    "\n",
    "**Hint:** Are the learning curves converging to particular scores? Generally speaking, the more data you have, the better. But if your training and testing curves are converging with a score above your benchmark threshold, would this be necessary?\n",
    "Think about the pros and cons of adding more training points based on if the training and testing curves are converging."
   ]
  },
  {
   "cell_type": "markdown",
   "metadata": {},
   "source": [
    "**Answer: **"
   ]
  },
  {
   "cell_type": "markdown",
   "metadata": {},
   "source": [
    "### Complexity Curves\n",
    "The following code cell produces a graph for a decision tree model that has been trained and validated on the training data using different maximum depths. The graph produces two complexity curves — one for training and one for validation. Similar to the **learning curves**, the shaded regions of both the complexity curves denote the uncertainty in those curves, and the model is scored on both the training and validation sets using the `performance_metric` function.  \n",
    "\n",
    "** Run the code cell below and use this graph to answer the following two questions Q5 and Q6. **"
   ]
  },
  {
   "cell_type": "code",
   "execution_count": null,
   "metadata": {
    "collapsed": true
   },
   "outputs": [],
   "source": [
    "vs.ModelComplexity(X_train, y_train)"
   ]
  },
  {
   "cell_type": "markdown",
   "metadata": {},
   "source": [
    "### Question 5 - Bias-Variance Tradeoff\n",
    "* When the model is trained with a maximum depth of 1, does the model suffer from high bias or from high variance? \n",
    "* How about when the model is trained with a maximum depth of 10? What visual cues in the graph justify your conclusions?\n",
    "\n",
    "**Hint:** High bias is a sign of underfitting(model is not complex enough to pick up the nuances in the data) and high variance is a sign of overfitting(model is by-hearting the data and cannot generalize well). Think about which model(depth 1 or 10) aligns with which part of the tradeoff."
   ]
  },
  {
   "cell_type": "markdown",
   "metadata": {},
   "source": [
    "**Answer: **"
   ]
  },
  {
   "cell_type": "markdown",
   "metadata": {},
   "source": [
    "### Question 6 - Best-Guess Optimal Model\n",
    "* Which maximum depth do you think results in a model that best generalizes to unseen data? \n",
    "* What intuition lead you to this answer?\n",
    "\n",
    "** Hint: ** Look at the graph above Question 5 and see where the validation scores lie for the various depths that have been assigned to the model. Does it get better with increased depth? At what point do we get our best validation score without overcomplicating our model? And remember, Occams Razor states \"Among competing hypotheses, the one with the fewest assumptions should be selected.\""
   ]
  },
  {
   "cell_type": "markdown",
   "metadata": {},
   "source": [
    "**Answer: **"
   ]
  },
  {
   "cell_type": "markdown",
   "metadata": {},
   "source": [
    "-----\n",
    "\n",
    "## Evaluating Model Performance\n",
    "In this final section of the project, you will construct a model and make a prediction on the client's feature set using an optimized model from `fit_model`."
   ]
  },
  {
   "cell_type": "markdown",
   "metadata": {},
   "source": [
    "### Question 7 - Grid Search\n",
    "* What is the grid search technique?\n",
    "* How it can be applied to optimize a learning algorithm?\n",
    "\n",
    "** Hint: ** When explaining the Grid Search technique, be sure to touch upon why it is used,  what the 'grid' entails and what the end goal of this method is. To solidify your answer, you can also give an example of a parameter in a model that can be optimized using this approach."
   ]
  },
  {
   "cell_type": "markdown",
   "metadata": {},
   "source": [
    "**Answer: **"
   ]
  },
  {
   "cell_type": "markdown",
   "metadata": {},
   "source": [
    "### Question 8 - Cross-Validation\n",
    "\n",
    "* What is the k-fold cross-validation training technique? \n",
    "\n",
    "* What benefit does this technique provide for grid search when optimizing a model?\n",
    "\n",
    "**Hint:** When explaining the k-fold cross validation technique, be sure to touch upon what 'k' is, how the dataset is split into different parts for training and testing and the number of times it is run based on the 'k' value.\n",
    "\n",
    "When thinking about how k-fold cross validation helps grid search, think about the main drawbacks of grid search which are hinged upon **using a particular subset of data for training or testing** and how k-fold cv could help alleviate that. You can refer to the [docs](http://scikit-learn.org/stable/modules/cross_validation.html#cross-validation) for your answer."
   ]
  },
  {
   "cell_type": "markdown",
   "metadata": {},
   "source": [
    "**Answer: **"
   ]
  },
  {
   "cell_type": "markdown",
   "metadata": {},
   "source": [
    "### Implementation: Fitting a Model\n",
    "Your final implementation requires that you bring everything together and train a model using the **decision tree algorithm**. To ensure that you are producing an optimized model, you will train the model using the grid search technique to optimize the `'max_depth'` parameter for the decision tree. The `'max_depth'` parameter can be thought of as how many questions the decision tree algorithm is allowed to ask about the data before making a prediction. Decision trees are part of a class of algorithms called *supervised learning algorithms*.\n",
    "\n",
    "In addition, you will find your implementation is using `ShuffleSplit()` for an alternative form of cross-validation (see the `'cv_sets'` variable). While it is not the K-Fold cross-validation technique you describe in **Question 8**, this type of cross-validation technique is just as useful!. The `ShuffleSplit()` implementation below will create 10 (`'n_splits'`) shuffled sets, and for each shuffle, 20% (`'test_size'`) of the data will be used as the *validation set*. While you're working on your implementation, think about the contrasts and similarities it has to the K-fold cross-validation technique.\n",
    "\n",
    "Please note that ShuffleSplit has different parameters in scikit-learn versions 0.17 and 0.18.\n",
    "For the `fit_model` function in the code cell below, you will need to implement the following:\n",
    "- Use [`DecisionTreeRegressor`](http://scikit-learn.org/stable/modules/generated/sklearn.tree.DecisionTreeRegressor.html) from `sklearn.tree` to create a decision tree regressor object.\n",
    "  - Assign this object to the `'regressor'` variable.\n",
    "- Create a dictionary for `'max_depth'` with the values from 1 to 10, and assign this to the `'params'` variable.\n",
    "- Use [`make_scorer`](http://scikit-learn.org/stable/modules/generated/sklearn.metrics.make_scorer.html) from `sklearn.metrics` to create a scoring function object.\n",
    "  - Pass the `performance_metric` function as a parameter to the object.\n",
    "  - Assign this scoring function to the `'scoring_fnc'` variable.\n",
    "- Use [`GridSearchCV`](http://scikit-learn.org/0.17/modules/generated/sklearn.grid_search.GridSearchCV.html) from `sklearn.grid_search` to create a grid search object.\n",
    "  - Pass the variables `'regressor'`, `'params'`, `'scoring_fnc'`, and `'cv_sets'` as parameters to the object. \n",
    "  - Assign the `GridSearchCV` object to the `'grid'` variable."
   ]
  },
  {
   "cell_type": "code",
   "execution_count": null,
   "metadata": {
    "collapsed": true
   },
   "outputs": [],
   "source": [
    "# TODO: Import 'make_scorer', 'DecisionTreeRegressor', and 'GridSearchCV'\n",
    "\n",
    "def fit_model(X, y):\n",
    "    \"\"\" Performs grid search over the 'max_depth' parameter for a \n",
    "        decision tree regressor trained on the input data [X, y]. \"\"\"\n",
    "    \n",
    "    # Create cross-validation sets from the training data\n",
    "    # sklearn version 0.18: ShuffleSplit(n_splits=10, test_size=0.1, train_size=None, random_state=None)\n",
    "    # sklearn versiin 0.17: ShuffleSplit(n, n_iter=10, test_size=0.1, train_size=None, random_state=None)\n",
    "    cv_sets = ShuffleSplit(X.shape[0], n_iter = 10, test_size = 0.20, random_state = 0)\n",
    "\n",
    "    # TODO: Create a decision tree regressor object\n",
    "    regressor = None\n",
    "\n",
    "    # TODO: Create a dictionary for the parameter 'max_depth' with a range from 1 to 10\n",
    "    params = {}\n",
    "\n",
    "    # TODO: Transform 'performance_metric' into a scoring function using 'make_scorer' \n",
    "    scoring_fnc = None\n",
    "\n",
    "    # TODO: Create the grid search cv object --> GridSearchCV()\n",
    "    # Make sure to include the right parameters in the object:\n",
    "    # (estimator, param_grid, scoring, cv) which have values 'regressor', 'params', 'scoring_fnc', and 'cv_sets' respectively.\n",
    "    grid = None\n",
    "\n",
    "    # Fit the grid search object to the data to compute the optimal model\n",
    "    grid = grid.fit(X, y)\n",
    "\n",
    "    # Return the optimal model after fitting the data\n",
    "    return grid.best_estimator_"
   ]
  },
  {
   "cell_type": "markdown",
   "metadata": {},
   "source": [
    "### Making Predictions\n",
    "Once a model has been trained on a given set of data, it can now be used to make predictions on new sets of input data. In the case of a *decision tree regressor*, the model has learned *what the best questions to ask about the input data are*, and can respond with a prediction for the **target variable**. You can use these predictions to gain information about data where the value of the target variable is unknown — such as data the model was not trained on."
   ]
  },
  {
   "cell_type": "markdown",
   "metadata": {},
   "source": [
    "### Question 9 - Optimal Model\n",
    "\n",
    "* What maximum depth does the optimal model have? How does this result compare to your guess in **Question 6**?  \n",
    "\n",
    "Run the code block below to fit the decision tree regressor to the training data and produce an optimal model."
   ]
  },
  {
   "cell_type": "code",
   "execution_count": null,
   "metadata": {
    "collapsed": true,
    "scrolled": true
   },
   "outputs": [],
   "source": [
    "# Fit the training data to the model using grid search\n",
    "reg = fit_model(X_train, y_train)\n",
    "\n",
    "# Produce the value for 'max_depth'\n",
    "print \"Parameter 'max_depth' is {} for the optimal model.\".format(reg.get_params()['max_depth'])"
   ]
  },
  {
   "cell_type": "markdown",
   "metadata": {},
   "source": [
    "** Hint: ** The answer comes from the output of the code snipped above.\n",
    "\n",
    "**Answer: **"
   ]
  },
  {
   "cell_type": "markdown",
   "metadata": {},
   "source": [
    "### Question 10 - Predicting Selling Prices\n",
    "Imagine that you were a real estate agent in the Boston area looking to use this model to help price homes owned by your clients that they wish to sell. You have collected the following information from three of your clients:\n",
    "\n",
    "| Feature | Client 1 | Client 2 | Client 3 |\n",
    "| :---: | :---: | :---: | :---: |\n",
    "| Total number of rooms in home | 5 rooms | 4 rooms | 8 rooms |\n",
    "| Neighborhood poverty level (as %) | 17% | 32% | 3% |\n",
    "| Student-teacher ratio of nearby schools | 15-to-1 | 22-to-1 | 12-to-1 |\n",
    "\n",
    "* What price would you recommend each client sell his/her home at? \n",
    "* Do these prices seem reasonable given the values for the respective features? \n",
    "\n",
    "**Hint:** Use the statistics you calculated in the **Data Exploration** section to help justify your response.  Of the three clients, client 3 has has the biggest house, in the best public school neighborhood with the lowest poverty level; while client 2 has the smallest house, in a neighborhood with a relatively high poverty rate and not the best public schools.\n",
    "\n",
    "Run the code block below to have your optimized model make predictions for each client's home."
   ]
  },
  {
   "cell_type": "code",
   "execution_count": null,
   "metadata": {
    "collapsed": true
   },
   "outputs": [],
   "source": [
    "# Produce a matrix for client data\n",
    "client_data = [[5, 17, 15], # Client 1\n",
    "               [4, 32, 22], # Client 2\n",
    "               [8, 3, 12]]  # Client 3\n",
    "\n",
    "# Show predictions\n",
    "for i, price in enumerate(reg.predict(client_data)):\n",
    "    print \"Predicted selling price for Client {}'s home: ${:,.2f}\".format(i+1, price)"
   ]
  },
  {
   "cell_type": "markdown",
   "metadata": {},
   "source": [
    "**Answer: **"
   ]
  },
  {
   "cell_type": "markdown",
   "metadata": {},
   "source": [
    "### Sensitivity\n",
    "An optimal model is not necessarily a robust model. Sometimes, a model is either too complex or too simple to sufficiently generalize to new data. Sometimes, a model could use a learning algorithm that is not appropriate for the structure of the data given. Other times, the data itself could be too noisy or contain too few samples to allow a model to adequately capture the target variable — i.e., the model is underfitted. \n",
    "\n",
    "**Run the code cell below to run the `fit_model` function ten times with different training and testing sets to see how the prediction for a specific client changes with respect to the data it's trained on.**"
   ]
  },
  {
   "cell_type": "code",
   "execution_count": null,
   "metadata": {
    "collapsed": true
   },
   "outputs": [],
   "source": [
    "vs.PredictTrials(features, prices, fit_model, client_data)"
   ]
  },
  {
   "cell_type": "markdown",
   "metadata": {},
   "source": [
    "### Question 11 - Applicability\n",
    "\n",
    "* In a few sentences, discuss whether the constructed model should or should not be used in a real-world setting.  \n",
    "\n",
    "**Hint:** Take a look at the range in prices as calculated in the code snippet above. Some questions to answering:\n",
    "- How relevant today is data that was collected from 1978? How important is inflation?\n",
    "- Are the features present in the data sufficient to describe a home? Do you think factors like quality of apppliances in the home, square feet of the plot area, presence of pool or not etc should factor in?\n",
    "- Is the model robust enough to make consistent predictions?\n",
    "- Would data collected in an urban city like Boston be applicable in a rural city?\n",
    "- Is it fair to judge the price of an individual home based on the characteristics of the entire neighborhood?"
   ]
  },
  {
   "cell_type": "markdown",
   "metadata": {},
   "source": [
    "**Answer: **"
   ]
  },
  {
   "cell_type": "markdown",
   "metadata": {},
   "source": [
    "> **Note**: Once you have completed all of the code implementations and successfully answered each question above, you may finalize your work by exporting the iPython Notebook as an HTML document. You can do this by using the menu above and navigating to  \n",
    "**File -> Download as -> HTML (.html)**. Include the finished document along with this notebook as your submission."
   ]
  }
 ],
 "metadata": {
  "anaconda-cloud": {},
  "kernelspec": {
   "display_name": "Python 2",
   "language": "python",
   "name": "python2"
  },
  "language_info": {
   "codemirror_mode": {
    "name": "ipython",
    "version": 2
   },
   "file_extension": ".py",
   "mimetype": "text/x-python",
   "name": "python",
   "nbconvert_exporter": "python",
   "pygments_lexer": "ipython2",
   "version": "2.7.11"
  }
 },
 "nbformat": 4,
 "nbformat_minor": 0
}
